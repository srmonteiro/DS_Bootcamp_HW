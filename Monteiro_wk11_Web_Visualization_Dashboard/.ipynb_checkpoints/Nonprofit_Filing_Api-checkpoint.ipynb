{
 "cells": [
  {
   "cell_type": "code",
   "execution_count": 8,
   "metadata": {},
   "outputs": [],
   "source": [
    "# Dependencies and Setup\n",
    "import openweathermapy.core as owm\n",
    "import matplotlib.pyplot as plt\n",
    "import json\n",
    "import requests\n",
    "import pandas as pd\n",
    "import numpy as np\n",
    "import requests\n",
    "import time\n",
    "\n",
    "from api_keys import charity_search_key, just_giving_appid, charity_navigator_key\n",
    "\n",
    "# Incorporated citipy to determine city based on latitude and longitude\n",
    "from citipy import citipy\n"
   ]
  },
  {
   "cell_type": "code",
   "execution_count": 12,
   "metadata": {},
   "outputs": [
    {
     "name": "stdout",
     "output_type": "stream",
     "text": [
      "https://projects.propublica.org/nonprofits/api/v2/organizations/310387145.json\n"
     ]
    }
   ],
   "source": [
    "propublica_url = \"https://projects.propublica.org/nonprofits/api/v2/organizations/\"\n",
    "dummy_ein = 310387145\n",
    "propublica_query = f'{propublica_url}{dummy_ein}.json'\n",
    "print(propublica_query)"
   ]
  },
  {
   "cell_type": "code",
   "execution_count": null,
   "metadata": {},
   "outputs": [
    {
     "data": {
      "text/plain": [
       "'https://projects.propublica.org/nonprofits/api/v2/organizations/100000023.json'"
      ]
     },
     "metadata": {},
     "output_type": "display_data"
    },
    {
     "data": {
      "text/plain": [
       "'https://projects.propublica.org/nonprofits/api/v2/organizations/100000267.json'"
      ]
     },
     "metadata": {},
     "output_type": "display_data"
    },
    {
     "data": {
      "text/plain": [
       "'https://projects.propublica.org/nonprofits/api/v2/organizations/100000292.json'"
      ]
     },
     "metadata": {},
     "output_type": "display_data"
    },
    {
     "data": {
      "text/plain": [
       "'https://projects.propublica.org/nonprofits/api/v2/organizations/100000573.json'"
      ]
     },
     "metadata": {},
     "output_type": "display_data"
    },
    {
     "data": {
      "text/plain": [
       "'https://projects.propublica.org/nonprofits/api/v2/organizations/100000594.json'"
      ]
     },
     "metadata": {},
     "output_type": "display_data"
    }
   ],
   "source": [
    "urls = []\n",
    "org_ein_loop = 100000000\n",
    "propublica_url = \"https://projects.propublica.org/nonprofits/api/v2/organizations/\"\n",
    "\n",
    "while org_ein_loop < 1000000000: \n",
    "\n",
    "      try:\n",
    "        propublica_query = f\"{propublica_url}{org_ein_loop}.json\"\n",
    "        propublica_response = requests.get(propublica_query).json()\n",
    "        display(propublica_query)\n",
    "        urls.append(propublica_query)\n",
    "        org_ein_loop = org_ein_loop + 1\n",
    "        \n",
    "      except ValueError: \n",
    "        org_ein_loop = org_ein_loop + 1\n",
    "        continue\n",
    "\n",
    "        \n",
    "    # ein.append(propublica_response['total_results']['organizations']['ein'])\n",
    "    # name.append(propublica_response['total_results']['organizations']['name'])\n",
    "    # city.append(propublica_response['total_results']['organizations']['city'])\n",
    "    # state.append(propublica_response['total_results']['organizations']['state'])\n",
    "    # ntee_code.append(propublica_response['total_results']['organizations']['ntee_code'])\n",
    "    #  subseccd.append(propublica_response['total_results']['organizations']['subseccd'])\n",
    "    #    score.append(propublica_response['total_results']['organizations']['score'])\n",
    "    \n",
    "#    if propublica_response[\"api_version\"] == 2:   \n",
    " #       display(propublica_response)\n",
    "          \n",
    "    \n",
    "        # print('This is not the nonprofit you were looking for')"
   ]
  },
  {
   "cell_type": "code",
   "execution_count": 3,
   "metadata": {},
   "outputs": [
    {
     "ename": "TypeError",
     "evalue": "ufunc 'add' did not contain a loop with signature matching types dtype('<U64') dtype('<U64') dtype('<U64')",
     "output_type": "error",
     "traceback": [
      "\u001b[0;31m---------------------------------------------------------------------------\u001b[0m",
      "\u001b[0;31mTypeError\u001b[0m                                 Traceback (most recent call last)",
      "\u001b[0;32m<ipython-input-3-ad578ab5432c>\u001b[0m in \u001b[0;36m<module>\u001b[0;34m\u001b[0m\n\u001b[1;32m      8\u001b[0m \u001b[0;34m\u001b[0m\u001b[0m\n\u001b[1;32m      9\u001b[0m \u001b[0;32mfor\u001b[0m \u001b[0mein\u001b[0m \u001b[0;32min\u001b[0m \u001b[0meins\u001b[0m\u001b[0;34m:\u001b[0m\u001b[0;34m\u001b[0m\u001b[0;34m\u001b[0m\u001b[0m\n\u001b[0;32m---> 10\u001b[0;31m     \u001b[0mpropublica_query\u001b[0m \u001b[0;34m=\u001b[0m \u001b[0mpropublica_url\u001b[0m \u001b[0;34m+\u001b[0m \u001b[0mdummy_eins\u001b[0m\u001b[0;34m\u001b[0m\u001b[0;34m\u001b[0m\u001b[0m\n\u001b[0m\u001b[1;32m     11\u001b[0m \u001b[0;34m\u001b[0m\u001b[0m\n\u001b[1;32m     12\u001b[0m \u001b[0mprint\u001b[0m\u001b[0;34m(\u001b[0m\u001b[0mpropublica_query\u001b[0m\u001b[0;34m)\u001b[0m\u001b[0;34m\u001b[0m\u001b[0;34m\u001b[0m\u001b[0m\n",
      "\u001b[0;31mTypeError\u001b[0m: ufunc 'add' did not contain a loop with signature matching types dtype('<U64') dtype('<U64') dtype('<U64')"
     ]
    }
   ],
   "source": [
    "eins = []\n",
    "propublica_query = []\n",
    "\n",
    "propublica_url = \"https://projects.propublica.org/nonprofits/api/v2/organizations/\"\n",
    "dummy_eins = np.random.uniform(low=500000000, high=999999999, size=15)\n",
    "\n",
    "eins = zip(dummy_eins)\n",
    "\n",
    "for ein in eins:\n",
    "    propublica_query = propublica_url + dummy_eins\n",
    "    \n",
    "print(propublica_query)\n",
    "print(dummy_eins/100000)"
   ]
  },
  {
   "cell_type": "code",
   "execution_count": null,
   "metadata": {},
   "outputs": [],
   "source": [
    "ein = []\n",
    "name = []\n",
    "city = []\n",
    "state = []\n",
    "ntee_code = []\n",
    "subseccd = []\n",
    "score = []\n",
    "\n",
    "propublica_url = \"https://projects.propublica.org/nonprofits/api/v2/organizations/\"\n",
    "\n",
    "dummy_eins = '310387146' # np.random.uniform(low=500000000, high=999999999, size=15)\n",
    "\n",
    "\n",
    "for ein in dummy_eins:\n",
    "    propublica_query = f\"{propublica_url}{dummy_eins}.json\"\n",
    "    propublica_response = requests.get(propublica_query).json()\n",
    "\n",
    "    # ein.append(propublica_response['total_results']['organizations']['ein'])\n",
    "    # name.append(propublica_response['total_results']['organizations']['name'])\n",
    "    # city.append(propublica_response['total_results']['organizations']['city'])\n",
    "    # state.append(propublica_response['total_results']['organizations']['state'])\n",
    "    # ntee_code.append(propublica_response['total_results']['organizations']['ntee_code'])\n",
    "    #  subseccd.append(propublica_response['total_results']['organizations']['subseccd'])\n",
    "    #    score.append(propublica_response['total_results']['organizations']['score'])\n",
    "    \n",
    "    if propublica_response[\"api_version\"] == 2:   \n",
    "        print('This is not the nonprofit you were looking for')\n",
    "          \n",
    "    else:\n",
    "        display(propublica_response)\n",
    "        "
   ]
  },
  {
   "cell_type": "code",
   "execution_count": null,
   "metadata": {},
   "outputs": [],
   "source": [
    "# Propublica Nonprofit API,  \n",
    "# https://projects.propublica.org/nonprofits/api\n",
    "# based on IRS Annual Extract of Tax-Exempt Organization Financial Data:\n",
    "# https://www.irs.gov/uac/soi-tax-stats-annual-extract-of-tax-exempt-organization-financial-data\n",
    "\n",
    "orgs = []\n",
    "\n",
    "propublica_url = \"https://projects.propublica.org/nonprofits/api/v2/search.json?q=\"\n",
    "propublica_query = f\"{propublica_url}\"\n",
    "propublica_response = requests.get(propublica_query).json()\n",
    "display(propublica_response)\n",
    "\n",
    "\n",
    "# Charity Search API Docs\n",
    "# http://charityapi.orghunter.com/content/charity-search-summary-api\n",
    "\n",
    "charity_search_url = \"http://data.orghunter.com/v1/charitysearch\"\n",
    "charity_search_query = f\"{charity_search_url}?user_key={charity_search_key}\"\n",
    "# charity_search_response = requests.get(charity_search_query).json()\n",
    "# charity_search_response\n",
    "\n",
    "# JustGiving Developer Guide\n",
    "# https://developer.justgiving.com/\n",
    "\n",
    "just_giving_url = \"https://api.justgiving.com\"\n",
    "just_giving_query = f\"{just_giving_url}/{just_giving_appid}/v1/charity/2050\" # need list comprehensions ...\n",
    "# just_giving_response = requests.get(just_giving_query).json()\n",
    "# just_giving_response\n",
    "\n",
    "# Build partial query URL\n",
    "\n"
   ]
  },
  {
   "cell_type": "code",
   "execution_count": null,
   "metadata": {},
   "outputs": [],
   "source": [
    "# Build partial query URL\n",
    "query_url = f\"{url}appid={api_key}&units={units}&q=\"\n",
    "query_url"
   ]
  }
 ],
 "metadata": {
  "kernelspec": {
   "display_name": "Python 3",
   "language": "python",
   "name": "python3"
  },
  "language_info": {
   "codemirror_mode": {
    "name": "ipython",
    "version": 3
   },
   "file_extension": ".py",
   "mimetype": "text/x-python",
   "name": "python",
   "nbconvert_exporter": "python",
   "pygments_lexer": "ipython3",
   "version": "3.6.7"
  }
 },
 "nbformat": 4,
 "nbformat_minor": 2
}
