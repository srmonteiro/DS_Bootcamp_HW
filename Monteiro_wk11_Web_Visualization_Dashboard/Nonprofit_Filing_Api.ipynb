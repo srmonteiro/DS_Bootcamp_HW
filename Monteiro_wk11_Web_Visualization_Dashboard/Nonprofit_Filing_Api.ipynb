{
 "cells": [
  {
   "cell_type": "code",
   "execution_count": null,
   "metadata": {},
   "outputs": [],
   "source": [
    "# Dependencies and Setup\n",
    "import openweathermapy.core as owm\n",
    "import matplotlib.pyplot as plt\n",
    "import json\n",
    "import pandas as pd\n",
    "import numpy as np\n",
    "import requests\n",
    "import time\n",
    "\n",
    "from api_keys import charity_search_key, just_giving_appid, charity_navigator_key\n",
    "\n",
    "# Incorporated citipy to determine city based on latitude and longitude\n",
    "from citipy import citipy\n"
   ]
  },
  {
   "cell_type": "code",
   "execution_count": null,
   "metadata": {},
   "outputs": [],
   "source": [
    "# Propublica Nonprofit API,  \n",
    "# https://projects.propublica.org/nonprofits/api\n",
    "# based on IRS Annual Extract of Tax-Exempt Organization Financial Data:\n",
    "# https://www.irs.gov/uac/soi-tax-stats-annual-extract-of-tax-exempt-organization-financial-data\n",
    "\n",
    "propublica_url = \"https://projects.propublica.org/nonprofits/api/v2/search.json\"\n",
    "propublica_query = f\"{propublica_url}\"\n",
    "# propublica_response = requests.get(propublica_query).json()\n",
    "# propublica_response\n",
    "\n",
    "\n",
    "# Charity Search API Docs\n",
    "# http://charityapi.orghunter.com/content/charity-search-summary-api\n",
    "\n",
    "charity_search_url = \"http://data.orghunter.com/v1/charitysearch\"\n",
    "charity_search_query = f\"{charity_search_url}?user_key={charity_search_key}\"\n",
    "# charity_search_response = requests.get(charity_search_query).json()\n",
    "# charity_search_response\n",
    "\n",
    "# JustGiving Developer Guide\n",
    "# https://developer.justgiving.com/\n",
    "\n",
    "just_giving_url = \"https://api.justgiving.com\"\n",
    "just_giving_query = f\"{just_giving_url}/{just_giving_appid}/v1/charity/2050\" # need list comprehensions ...\n",
    "# just_giving_response = requests.get(just_giving_query).json()\n",
    "# just_giving_response\n",
    "\n",
    "# Build partial query URL\n",
    "\n"
   ]
  },
  {
   "cell_type": "code",
   "execution_count": null,
   "metadata": {},
   "outputs": [],
   "source": [
    "# Build partial query URL\n",
    "query_url = f\"{url}appid={api_key}&units={units}&q=\"\n",
    "query_url"
   ]
  }
 ],
 "metadata": {
  "kernelspec": {
   "display_name": "Python 3",
   "language": "python",
   "name": "python3"
  },
  "language_info": {
   "codemirror_mode": {
    "name": "ipython",
    "version": 3
   },
   "file_extension": ".py",
   "mimetype": "text/x-python",
   "name": "python",
   "nbconvert_exporter": "python",
   "pygments_lexer": "ipython3",
   "version": "3.6.7"
  }
 },
 "nbformat": 4,
 "nbformat_minor": 2
}
