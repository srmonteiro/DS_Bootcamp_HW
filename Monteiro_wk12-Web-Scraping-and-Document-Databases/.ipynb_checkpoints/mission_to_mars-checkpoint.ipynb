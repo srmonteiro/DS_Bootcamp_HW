{
 "cells": [
  {
   "cell_type": "markdown",
   "metadata": {},
   "source": [
    "# Mars News Mongo Web Scraper\n",
    "\n",
    "* In this assignment, you will build a web application that scrapes various websites for data related to the Mission to Mars and displays the information in a single HTML page. The following outlines what you need to do.\n",
    "\n",
    "### Step 1 - Scraping\n",
    "\n",
    "    1) NASA Mars News\n",
    "    2) JPL Mars Space Images - Featured Image\n",
    "    3) Mars Weather\n",
    "    4) Mars Facts\n",
    "    5) Mars Hemispheres\n",
    "\n",
    "### Step 2 - MongoDB and Flask Application\n",
    "\n",
    "* Convert your Jupyter notebook into a Python script called `scrape_mars.py` with `scrape`\n",
    "* Create a route called `/scrape` that will import your `scrape_mars.py`\n",
    "* Create a root route `/` that will query your Mongo database and pass the mars data into an HTML template to display the data.\n",
    "* Create a template HTML file called `index.html` that will take the mars data dictionary and display all of the data in the appropriate HTML elements.\n",
    "    * [final_app_part1.png](Images/final_app_part1.png) (Images/final_app_part1.png)\n",
    "    * [final_app_part2.png](Images/final_app_part2.png) (Images/final_app_part2.png)"
   ]
  },
  {
   "cell_type": "markdown",
   "metadata": {},
   "source": [
    " # Dependencies\n",
    "from bs4 import BeautifulSoup\n",
    "from splinter import Browser\n",
    "import requests\n",
    "import pymongo"
   ]
  },
  {
   "cell_type": "code",
   "execution_count": 1,
   "metadata": {},
   "outputs": [],
   "source": [
    "# Dependencies\n",
    "from bs4 import BeautifulSoup\n",
    "from splinter import Browser\n",
    "import requests\n",
    "import pandas as pd\n",
    "import numpy as np"
   ]
  },
  {
   "cell_type": "markdown",
   "metadata": {},
   "source": [
    "# NASA Mars News (1 of 5)"
   ]
  },
  {
   "cell_type": "markdown",
   "metadata": {},
   "source": [
    "### Connect the Mongo to Mars\n",
    "* Scrape the [NASA Mars News Site](https://mars.nasa.gov/news/) (https://mars.nasa.gov/news/) and collect the latest News Title and Paragraph Text. Assign the text to variables that you can reference later."
   ]
  },
  {
   "cell_type": "code",
   "execution_count": 2,
   "metadata": {},
   "outputs": [],
   "source": [
    "# URL of page to be scraped\n",
    "NASA_mars_news_url = 'https://mars.nasa.gov/news/'\n",
    "\n",
    "# Retrieve page with the requests module\n",
    "mars_response = requests.get(NASA_mars_news_url)\n",
    "\n",
    "# mars_response ## Preview"
   ]
  },
  {
   "cell_type": "code",
   "execution_count": 3,
   "metadata": {},
   "outputs": [],
   "source": [
    "# Create BeautifulSoup object; parse with 'html.parser'\n",
    "martian_soup = BeautifulSoup(mars_response.text, 'html.parser')\n",
    "\n",
    "# martian_soup ## Preview"
   ]
  },
  {
   "cell_type": "markdown",
   "metadata": {},
   "source": [
    "### are you sure you did that right? "
   ]
  },
  {
   "cell_type": "code",
   "execution_count": 4,
   "metadata": {},
   "outputs": [],
   "source": [
    "# print(martian_soup.prettify()) ## Preview"
   ]
  },
  {
   "cell_type": "code",
   "execution_count": 5,
   "metadata": {},
   "outputs": [
    {
     "name": "stdout",
     "output_type": "stream",
     "text": [
      "\n",
      "\n",
      "Why This Martian Full Moon Looks Like Candy\n",
      "\n",
      "\n",
      "\n",
      "For the first time, NASA's Mars Odyssey orbiter has caught the Martian moon Phobos during a full moon phase. Each color in this new image represents a temperature range detected by Odyssey's infrared camera.\n",
      "\n"
     ]
    }
   ],
   "source": [
    "news_title = martian_soup.find('div', 'a', class_=\"content_title\").text\n",
    "news_p = martian_soup.find('div', class_=\"rollover_description_inner\").text\n",
    "\n",
    "print(news_title)\n",
    "print(news_p)"
   ]
  },
  {
   "cell_type": "markdown",
   "metadata": {},
   "source": [
    "#### ========================== END NASA Mars News (1 of 5) =========================="
   ]
  },
  {
   "cell_type": "markdown",
   "metadata": {},
   "source": [
    " # JPL Mars Space Images - Featured Image (2 of 5)\n",
    " \n",
    "* Visit the url for JPL Featured Space Image [here](https://www.jpl.nasa.gov/spaceimages/?search=&category=Mars) (https://www.jpl.nasa.gov/spaceimages/?search=&category=Mars).\n",
    "\n",
    "* Use splinter to navigate the site and find the image url for the current Featured Mars Image and assign the url string to a variable called `featured_image_url`.\n",
    "\n",
    "* Make sure to find the image url to the full size `.jpg` image.\n",
    "\n",
    "* Make sure to save a complete url string for this image."
   ]
  },
  {
   "cell_type": "markdown",
   "metadata": {},
   "source": [
    "### I'm on a Mac\n",
    "\n",
    "    [sudo] pip install selenium\n",
    "\n",
    "    from splinter import Browser\n",
    "    executable_path = {'executable_path':'</path/to/chrome>'}\n",
    "\n",
    "    browser = Browser('chrome', **executable_path)\n",
    "\n",
    "    brew cask install chromedriver"
   ]
  },
  {
   "cell_type": "code",
   "execution_count": 6,
   "metadata": {},
   "outputs": [
    {
     "name": "stdout",
     "output_type": "stream",
     "text": [
      "/usr/local/bin/chromedriver\n"
     ]
    }
   ],
   "source": [
    "# https://splinter.readthedocs.io/en/latest/drivers/chrome.html # Thanks Fernanda!!!\n",
    "!which chromedriver"
   ]
  },
  {
   "cell_type": "code",
   "execution_count": 7,
   "metadata": {},
   "outputs": [],
   "source": [
    "executable_path = {'executable_path': '/usr/local/bin/chromedriver'}\n",
    "mars_img_browser = Browser('chrome', **executable_path, headless=False)"
   ]
  },
  {
   "cell_type": "code",
   "execution_count": 8,
   "metadata": {},
   "outputs": [],
   "source": [
    "# URL of page to be scraped\n",
    "\n",
    "mars_image_url = 'https://www.jpl.nasa.gov/spaceimages/?search=&category=Mars'\n",
    "\n",
    "# I think we have to visit to make this work? \n",
    "\n",
    "mars_img_browser.visit(mars_image_url)"
   ]
  },
  {
   "cell_type": "code",
   "execution_count": 9,
   "metadata": {},
   "outputs": [],
   "source": [
    "# Retrieve page with the requests module\n",
    "mars_html = mars_img_browser.html\n",
    "mars_img_soup = BeautifulSoup(mars_html, 'html.parser')\n",
    "\n",
    "# print(img_soup.prettify())  #  PREVIEW"
   ]
  },
  {
   "cell_type": "code",
   "execution_count": 10,
   "metadata": {},
   "outputs": [
    {
     "name": "stdout",
     "output_type": "stream",
     "text": [
      "https://www.jpl.nasa.gov/spaceimages/images/mediumsize/PIA15883_ip.jpg\n"
     ]
    }
   ],
   "source": [
    "base_img_url = \"https://www.jpl.nasa.gov\"\n",
    "img_url = mars_img_soup.find(\"a\", class_=\"button fancybox\")[\"data-fancybox-href\"]\n",
    "featured_image_url = (base_img_url + img_url)\n",
    "print (featured_image_url)"
   ]
  },
  {
   "cell_type": "markdown",
   "metadata": {},
   "source": [
    "#### =========== END JPL Mars Space Images - Featured Image (2 of 5) ==========="
   ]
  },
  {
   "cell_type": "markdown",
   "metadata": {},
   "source": [
    "# Mars Weather (3 of 5)\n",
    "\n",
    "* Visit the Mars Weather twitter account [here](https://twitter.com/marswxreport?lang=en) \n",
    "* Scrape the latest Mars weather tweet from the page. \n",
    "* Save the tweet text for the weather report as a variable called `mars_weather`.\n"
   ]
  },
  {
   "cell_type": "code",
   "execution_count": 11,
   "metadata": {},
   "outputs": [],
   "source": [
    "# URL of page to be scraped\n",
    "mars_weather_url = \"https://twitter.com/marswxreport?lang=en)\"\n",
    "\n",
    "# Retrieve page with the requests module\n",
    "mars_weather_request = requests.get(mars_weather_url)\n",
    "\n",
    "# mars_weather_request  ## Preview"
   ]
  },
  {
   "cell_type": "code",
   "execution_count": 12,
   "metadata": {},
   "outputs": [],
   "source": [
    "# Create BeautifulSoup object; parse with 'html.parser'\n",
    "mars_weather_soup = BeautifulSoup(mars_weather_request.text, 'html.parser')\n",
    "\n",
    "# print(mars_weather_soup.prettify())  #  PREVIEW"
   ]
  },
  {
   "cell_type": "code",
   "execution_count": 13,
   "metadata": {},
   "outputs": [
    {
     "data": {
      "text/plain": [
       "'InSight sol 167 (2019-05-17) low -100.5ºC (-148.9ºF) high -20.4ºC (-4.6ºF)\\nwinds from the SW at 4.7 m/s (10.6 mph) gusting to 13.5 m/s (30.3 mph)\\npressure at 7.50 hPa'"
      ]
     },
     "execution_count": 13,
     "metadata": {},
     "output_type": "execute_result"
    }
   ],
   "source": [
    "mars_weather_readings = mars_weather_soup.find('p', class_=\"TweetTextSize TweetTextSize--normal js-tweet-text tweet-text\").text\n",
    "\n",
    "# print(mars_weather_readings)\n",
    "mwr = mars_weather_readings.split(\"pic.\")\n",
    "mwr[0]\n"
   ]
  },
  {
   "cell_type": "markdown",
   "metadata": {},
   "source": [
    "#### ====================== END Mars Weather (3 of 5) ======================"
   ]
  },
  {
   "cell_type": "markdown",
   "metadata": {},
   "source": [
    "# Mars Facts (4 of 5)\n",
    "\n",
    "* Visit the Mars Facts webpage [here] (https://space-facts.com/mars/)\n",
    "* use Pandas to scrape the table containing facts about the planet including Diameter, Mass, etc.\n",
    "* Use Pandas to convert the data to a HTML table string."
   ]
  },
  {
   "cell_type": "code",
   "execution_count": 14,
   "metadata": {},
   "outputs": [],
   "source": [
    "# URL of page to be scraped\n",
    "mars_facts_url = \"https://space-facts.com/mars/\""
   ]
  },
  {
   "cell_type": "code",
   "execution_count": 15,
   "metadata": {},
   "outputs": [
    {
     "data": {
      "text/html": [
       "<div>\n",
       "<style scoped>\n",
       "    .dataframe tbody tr th:only-of-type {\n",
       "        vertical-align: middle;\n",
       "    }\n",
       "\n",
       "    .dataframe tbody tr th {\n",
       "        vertical-align: top;\n",
       "    }\n",
       "\n",
       "    .dataframe thead th {\n",
       "        text-align: right;\n",
       "    }\n",
       "</style>\n",
       "<table border=\"1\" class=\"dataframe\">\n",
       "  <thead>\n",
       "    <tr style=\"text-align: right;\">\n",
       "      <th></th>\n",
       "      <th>Query</th>\n",
       "      <th>Fax</th>\n",
       "    </tr>\n",
       "  </thead>\n",
       "  <tbody>\n",
       "    <tr>\n",
       "      <th>0</th>\n",
       "      <td>Equatorial Diameter:</td>\n",
       "      <td>6,792 km</td>\n",
       "    </tr>\n",
       "    <tr>\n",
       "      <th>1</th>\n",
       "      <td>Polar Diameter:</td>\n",
       "      <td>6,752 km</td>\n",
       "    </tr>\n",
       "    <tr>\n",
       "      <th>2</th>\n",
       "      <td>Mass:</td>\n",
       "      <td>6.42 x 10^23 kg (10.7% Earth)</td>\n",
       "    </tr>\n",
       "    <tr>\n",
       "      <th>3</th>\n",
       "      <td>Moons:</td>\n",
       "      <td>2 (Phobos &amp; Deimos)</td>\n",
       "    </tr>\n",
       "    <tr>\n",
       "      <th>4</th>\n",
       "      <td>Orbit Distance:</td>\n",
       "      <td>227,943,824 km (1.52 AU)</td>\n",
       "    </tr>\n",
       "    <tr>\n",
       "      <th>5</th>\n",
       "      <td>Orbit Period:</td>\n",
       "      <td>687 days (1.9 years)</td>\n",
       "    </tr>\n",
       "    <tr>\n",
       "      <th>6</th>\n",
       "      <td>Surface Temperature:</td>\n",
       "      <td>-153 to 20 °C</td>\n",
       "    </tr>\n",
       "    <tr>\n",
       "      <th>7</th>\n",
       "      <td>First Record:</td>\n",
       "      <td>2nd millennium BC</td>\n",
       "    </tr>\n",
       "    <tr>\n",
       "      <th>8</th>\n",
       "      <td>Recorded By:</td>\n",
       "      <td>Egyptian astronomers</td>\n",
       "    </tr>\n",
       "  </tbody>\n",
       "</table>\n",
       "</div>"
      ],
      "text/plain": [
       "                  Query                            Fax\n",
       "0  Equatorial Diameter:                       6,792 km\n",
       "1       Polar Diameter:                       6,752 km\n",
       "2                 Mass:  6.42 x 10^23 kg (10.7% Earth)\n",
       "3                Moons:            2 (Phobos & Deimos)\n",
       "4       Orbit Distance:       227,943,824 km (1.52 AU)\n",
       "5         Orbit Period:           687 days (1.9 years)\n",
       "6  Surface Temperature:                  -153 to 20 °C\n",
       "7         First Record:              2nd millennium BC\n",
       "8          Recorded By:           Egyptian astronomers"
      ]
     },
     "execution_count": 15,
     "metadata": {},
     "output_type": "execute_result"
    }
   ],
   "source": [
    "# Create a beautiful Pandas df with Mars Fax\n",
    "mars_facts_table = pd.read_html(mars_facts_url)\n",
    "mars_facts_df = mars_facts_table[0]\n",
    "mars_facts_df.columns = [\"Query\", \"Fax\"]\n",
    "mars_facts_df"
   ]
  },
  {
   "cell_type": "code",
   "execution_count": 16,
   "metadata": {},
   "outputs": [],
   "source": [
    "eq_diam = mars_facts_df[\"Query\"][0]\n",
    "pl_diam = mars_facts_df[\"Query\"][1]\n",
    "mass = mars_facts_df[\"Query\"][2]\n",
    "moons = mars_facts_df[\"Query\"][3]\n",
    "o_dist = mars_facts_df[\"Query\"][4]\n",
    "o_period = mars_facts_df[\"Query\"][5]\n",
    "temp = mars_facts_df[\"Query\"][6]\n",
    "first_rec = mars_facts_df[\"Query\"][7]\n",
    "rec_by = mars_facts_df[\"Query\"][8]\n",
    "\n",
    "eq_diam_faq = mars_facts_df[\"Fax\"][0]\n",
    "pl_diam_faq = mars_facts_df[\"Fax\"][1]\n",
    "mass_faq = mars_facts_df[\"Fax\"][2]\n",
    "moons_faq = mars_facts_df[\"Fax\"][3]\n",
    "o_dist_faq = mars_facts_df[\"Fax\"][4]\n",
    "o_period_faq = mars_facts_df[\"Fax\"][5]\n",
    "temp_faq = mars_facts_df[\"Fax\"][6]\n",
    "first_rec_faq = mars_facts_df[\"Fax\"][7]\n",
    "rec_by_faq = mars_facts_df[\"Fax\"][8]\n"
   ]
  },
  {
   "cell_type": "code",
   "execution_count": 17,
   "metadata": {},
   "outputs": [
    {
     "name": "stdout",
     "output_type": "stream",
     "text": [
      "<table border=\"1\" class=\"dataframe\">  <thead>    <tr style=\"text-align: right;\">      <th></th>      <th>Query</th>      <th>Fax</th>    </tr>  </thead>  <tbody>    <tr>      <th>0</th>      <td>Equatorial Diameter:</td>      <td>6,792 km</td>    </tr>    <tr>      <th>1</th>      <td>Polar Diameter:</td>      <td>6,752 km</td>    </tr>    <tr>      <th>2</th>      <td>Mass:</td>      <td>6.42 x 10^23 kg (10.7% Earth)</td>    </tr>    <tr>      <th>3</th>      <td>Moons:</td>      <td>2 (Phobos &amp; Deimos)</td>    </tr>    <tr>      <th>4</th>      <td>Orbit Distance:</td>      <td>227,943,824 km (1.52 AU)</td>    </tr>    <tr>      <th>5</th>      <td>Orbit Period:</td>      <td>687 days (1.9 years)</td>    </tr>    <tr>      <th>6</th>      <td>Surface Temperature:</td>      <td>-153 to 20 °C</td>    </tr>    <tr>      <th>7</th>      <td>First Record:</td>      <td>2nd millennium BC</td>    </tr>    <tr>      <th>8</th>      <td>Recorded By:</td>      <td>Egyptian astronomers</td>    </tr>  </tbody></table>\n"
     ]
    }
   ],
   "source": [
    "mars_facts_html_table = mars_facts_df.to_html() # 'Table/mars_html_table.html' -- to create previewable html\n",
    "mars_facts_html_table = mars_facts_html_table.replace(\"\\n\", \"\")\n",
    "print(mars_facts_html_table)\n",
    "# !open \"Table/mars_html_table.html\""
   ]
  },
  {
   "cell_type": "markdown",
   "metadata": {},
   "source": [
    "#### ========================= END Mars Facts (4 of 5) ========================="
   ]
  },
  {
   "cell_type": "markdown",
   "metadata": {},
   "source": [
    "# Mars Hemispheres (5 of 5)\n",
    "\n",
    "* Visit the USGS Astrogeology site [here](https://astrogeology.usgs.gov/search/results?q=hemisphere+enhanced&k1=target&v1=Mars) to obtain high resolution images for each of Mar's hemispheres. (https://astrogeology.usgs.gov/search/results?q=hemisphere+enhanced&k1=target&v1=Mars)\n",
    "\n",
    "* You will need to click each of the links to the hemispheres in order to find the image url to the full resolution image.\n",
    "\n",
    "* Save both the image url string for the full resolution hemisphere image, and the Hemisphere title containing the hemisphere name. Use a Python dictionary to store the data using the keys `img_url` and `title`.\n",
    "\n",
    "* Append the dictionary with the image url string and the hemisphere title to a list. This list will contain one dictionary for each hemisphere."
   ]
  },
  {
   "cell_type": "code",
   "execution_count": 18,
   "metadata": {},
   "outputs": [
    {
     "name": "stdout",
     "output_type": "stream",
     "text": [
      "/usr/local/bin/chromedriver\n"
     ]
    }
   ],
   "source": [
    "# Do I have to add this multiple times? \n",
    "\n",
    "!which chromedriver"
   ]
  },
  {
   "cell_type": "code",
   "execution_count": 19,
   "metadata": {},
   "outputs": [],
   "source": [
    "executable_path = {'executable_path': '/usr/local/bin/chromedriver'}\n",
    "mars_hemispheres_base_img_browser = Browser('chrome', **executable_path, headless=False)"
   ]
  },
  {
   "cell_type": "code",
   "execution_count": 20,
   "metadata": {},
   "outputs": [],
   "source": [
    "# URL of page to be scraped \n",
    "mars_hemisphere_url = \"https://astrogeology.usgs.gov/search/results?q=hemisphere+enhanced&k1=target&v1=Mars\"\n",
    "\n",
    "# Make sure you visit! \n",
    "mars_hemispheres_base_img_browser.visit(mars_hemisphere_url)"
   ]
  },
  {
   "cell_type": "code",
   "execution_count": 21,
   "metadata": {},
   "outputs": [],
   "source": [
    "# Retrieve page with the requests module\n",
    "\n",
    "mars_hemisphere_html = mars_hemispheres_base_img_browser.html\n",
    "mars_hemisphere_html_soup = BeautifulSoup(mars_hemisphere_html, 'html.parser')\n",
    "\n",
    "# print(mars_hemisphere_html_soup.prettify()) ## PREVIEW"
   ]
  },
  {
   "cell_type": "code",
   "execution_count": 22,
   "metadata": {},
   "outputs": [],
   "source": [
    "# Gather each of the links to the hemispheres in order to find the image url to the full resolution image.\n",
    "hemispheres_imgs = mars_hemisphere_html_soup.find_all(\"div\", class_=\"item\")\n",
    "\n",
    "# hemispheres_imgs ## PREVIEW"
   ]
  },
  {
   "cell_type": "code",
   "execution_count": 141,
   "metadata": {},
   "outputs": [
    {
     "name": "stdout",
     "output_type": "stream",
     "text": [
      "['http://astropedia.astrogeology.usgs.gov/download/Mars/Viking/valles_marineris_enhanced.tif/full.jpg']\n",
      "['http://astropedia.astrogeology.usgs.gov/download/Mars/Viking/valles_marineris_enhanced.tif/full.jpg']\n",
      "['http://astropedia.astrogeology.usgs.gov/download/Mars/Viking/valles_marineris_enhanced.tif/full.jpg']\n",
      "['http://astropedia.astrogeology.usgs.gov/download/Mars/Viking/valles_marineris_enhanced.tif/full.jpg']\n"
     ]
    }
   ],
   "source": [
    "##### A SPECIAL THANK YOU TO FERNANDA! #### \n",
    "\n",
    "hemispheres_base_img_url = \"https://astrogeology.usgs.gov\"\n",
    "\n",
    "hemispheres_imgs_urls = []\n",
    "hiu = []\n",
    "\n",
    "for img in hemispheres_imgs:\n",
    "    img_title = img.find(\"h3\").text\n",
    "    img_url = img.find(\"a\")[\"href\"]\n",
    "    full_img_link = hemispheres_base_img_url + img_url \n",
    "    \n",
    "    mars_hemispheres_base_img_browser.visit(full_img_link)\n",
    "    hemispheres_base_img_html = mars_hemispheres_base_img_browser.html\n",
    "    hemispheres_full_img_soup = BeautifulSoup(hemispheres_base_img_html, \"html.parser\")\n",
    "    hemispheres_downloads = hemispheres_full_img_soup.find(\"div\", class_=\"downloads\")\n",
    "    hemispheres_image_download_urls = hemispheres_downloads.find(\"a\")[\"href\"]\n",
    "    hemispheres_imgs_urls.append({\"title\": img_title, \"img_url\": img_url})\n",
    "    hiu.append({\"title\": img_title, \"img_url\": hemispheres_image_download_url})\n",
    "    print(hiu[0]['img_url'])\n",
    "    print(hiu[1]['img_url'])\n",
    "    print(hiu[2]['img_url'])\n",
    "    print(hiu[3]['img_url'])\n"
   ]
  },
  {
   "cell_type": "code",
   "execution_count": null,
   "metadata": {},
   "outputs": [],
   "source": []
  },
  {
   "cell_type": "markdown",
   "metadata": {},
   "source": [
    "#### ========================= END Mars Hemispheres (5 of 5) ========================="
   ]
  },
  {
   "cell_type": "markdown",
   "metadata": {},
   "source": [
    "####  ===================================  Fin  ===================================="
   ]
  }
 ],
 "metadata": {
  "kernelspec": {
   "display_name": "Python 3",
   "language": "python",
   "name": "python3"
  },
  "language_info": {
   "codemirror_mode": {
    "name": "ipython",
    "version": 3
   },
   "file_extension": ".py",
   "mimetype": "text/x-python",
   "name": "python",
   "nbconvert_exporter": "python",
   "pygments_lexer": "ipython3",
   "version": "3.6.7"
  }
 },
 "nbformat": 4,
 "nbformat_minor": 2
}
